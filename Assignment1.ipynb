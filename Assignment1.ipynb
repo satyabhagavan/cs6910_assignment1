{
  "nbformat": 4,
  "nbformat_minor": 0,
  "metadata": {
    "colab": {
      "provenance": []
    },
    "kernelspec": {
      "name": "python3",
      "display_name": "Python 3"
    },
    "language_info": {
      "name": "python"
    }
  },
  "cells": [
    {
      "cell_type": "markdown",
      "source": [
        "Fashion MNIST"
      ],
      "metadata": {
        "id": "pYFE_FjORfmY"
      }
    },
    {
      "cell_type": "code",
      "source": [
        "!pip install wandb\n",
        "import wandb"
      ],
      "metadata": {
        "colab": {
          "base_uri": "https://localhost:8080/"
        },
        "id": "3nzOH8J49_z_",
        "outputId": "b2ba1b2b-5e9f-4117-c926-adb88cafe8b5"
      },
      "execution_count": 1,
      "outputs": [
        {
          "output_type": "stream",
          "name": "stdout",
          "text": [
            "Collecting wandb\n",
            "  Downloading wandb-0.16.3-py3-none-any.whl (2.2 MB)\n",
            "\u001b[2K     \u001b[90m━━━━━━━━━━━━━━━━━━━━━━━━━━━━━━━━━━━━━━━━\u001b[0m \u001b[32m2.2/2.2 MB\u001b[0m \u001b[31m11.6 MB/s\u001b[0m eta \u001b[36m0:00:00\u001b[0m\n",
            "\u001b[?25hRequirement already satisfied: Click!=8.0.0,>=7.1 in /usr/local/lib/python3.10/dist-packages (from wandb) (8.1.7)\n",
            "Collecting GitPython!=3.1.29,>=1.0.0 (from wandb)\n",
            "  Downloading GitPython-3.1.42-py3-none-any.whl (195 kB)\n",
            "\u001b[2K     \u001b[90m━━━━━━━━━━━━━━━━━━━━━━━━━━━━━━━━━━━━━━━━\u001b[0m \u001b[32m195.4/195.4 kB\u001b[0m \u001b[31m12.1 MB/s\u001b[0m eta \u001b[36m0:00:00\u001b[0m\n",
            "\u001b[?25hRequirement already satisfied: requests<3,>=2.0.0 in /usr/local/lib/python3.10/dist-packages (from wandb) (2.31.0)\n",
            "Requirement already satisfied: psutil>=5.0.0 in /usr/local/lib/python3.10/dist-packages (from wandb) (5.9.5)\n",
            "Collecting sentry-sdk>=1.0.0 (from wandb)\n",
            "  Downloading sentry_sdk-1.40.6-py2.py3-none-any.whl (258 kB)\n",
            "\u001b[2K     \u001b[90m━━━━━━━━━━━━━━━━━━━━━━━━━━━━━━━━━━━━━━━━\u001b[0m \u001b[32m258.5/258.5 kB\u001b[0m \u001b[31m15.1 MB/s\u001b[0m eta \u001b[36m0:00:00\u001b[0m\n",
            "\u001b[?25hCollecting docker-pycreds>=0.4.0 (from wandb)\n",
            "  Downloading docker_pycreds-0.4.0-py2.py3-none-any.whl (9.0 kB)\n",
            "Requirement already satisfied: PyYAML in /usr/local/lib/python3.10/dist-packages (from wandb) (6.0.1)\n",
            "Collecting setproctitle (from wandb)\n",
            "  Downloading setproctitle-1.3.3-cp310-cp310-manylinux_2_5_x86_64.manylinux1_x86_64.manylinux_2_17_x86_64.manylinux2014_x86_64.whl (30 kB)\n",
            "Requirement already satisfied: setuptools in /usr/local/lib/python3.10/dist-packages (from wandb) (67.7.2)\n",
            "Requirement already satisfied: appdirs>=1.4.3 in /usr/local/lib/python3.10/dist-packages (from wandb) (1.4.4)\n",
            "Requirement already satisfied: protobuf!=4.21.0,<5,>=3.19.0 in /usr/local/lib/python3.10/dist-packages (from wandb) (3.20.3)\n",
            "Requirement already satisfied: six>=1.4.0 in /usr/local/lib/python3.10/dist-packages (from docker-pycreds>=0.4.0->wandb) (1.16.0)\n",
            "Collecting gitdb<5,>=4.0.1 (from GitPython!=3.1.29,>=1.0.0->wandb)\n",
            "  Downloading gitdb-4.0.11-py3-none-any.whl (62 kB)\n",
            "\u001b[2K     \u001b[90m━━━━━━━━━━━━━━━━━━━━━━━━━━━━━━━━━━━━━━━━\u001b[0m \u001b[32m62.7/62.7 kB\u001b[0m \u001b[31m6.1 MB/s\u001b[0m eta \u001b[36m0:00:00\u001b[0m\n",
            "\u001b[?25hRequirement already satisfied: charset-normalizer<4,>=2 in /usr/local/lib/python3.10/dist-packages (from requests<3,>=2.0.0->wandb) (3.3.2)\n",
            "Requirement already satisfied: idna<4,>=2.5 in /usr/local/lib/python3.10/dist-packages (from requests<3,>=2.0.0->wandb) (3.6)\n",
            "Requirement already satisfied: urllib3<3,>=1.21.1 in /usr/local/lib/python3.10/dist-packages (from requests<3,>=2.0.0->wandb) (2.0.7)\n",
            "Requirement already satisfied: certifi>=2017.4.17 in /usr/local/lib/python3.10/dist-packages (from requests<3,>=2.0.0->wandb) (2024.2.2)\n",
            "Collecting smmap<6,>=3.0.1 (from gitdb<5,>=4.0.1->GitPython!=3.1.29,>=1.0.0->wandb)\n",
            "  Downloading smmap-5.0.1-py3-none-any.whl (24 kB)\n",
            "Installing collected packages: smmap, setproctitle, sentry-sdk, docker-pycreds, gitdb, GitPython, wandb\n",
            "Successfully installed GitPython-3.1.42 docker-pycreds-0.4.0 gitdb-4.0.11 sentry-sdk-1.40.6 setproctitle-1.3.3 smmap-5.0.1 wandb-0.16.3\n"
          ]
        }
      ]
    },
    {
      "cell_type": "code",
      "execution_count": 3,
      "metadata": {
        "id": "88B3FZLgROCd"
      },
      "outputs": [],
      "source": [
        "from keras.datasets import fashion_mnist\n",
        "import matplotlib.pyplot as plt\n",
        "import numpy as np\n",
        "import pandas as pd\n",
        "import math"
      ]
    },
    {
      "cell_type": "code",
      "source": [
        "# !wandb login"
      ],
      "metadata": {
        "id": "q7T1Yop-VxNA"
      },
      "execution_count": 4,
      "outputs": []
    },
    {
      "cell_type": "code",
      "source": [
        "(X_train, Y_train), (X_test, Y_test) = fashion_mnist.load_data()"
      ],
      "metadata": {
        "id": "d4wHMH8dR8y3",
        "colab": {
          "base_uri": "https://localhost:8080/"
        },
        "outputId": "d4979361-cc79-4f53-d85b-f55c377fdd7f"
      },
      "execution_count": 5,
      "outputs": [
        {
          "output_type": "stream",
          "name": "stdout",
          "text": [
            "Downloading data from https://storage.googleapis.com/tensorflow/tf-keras-datasets/train-labels-idx1-ubyte.gz\n",
            "29515/29515 [==============================] - 0s 0us/step\n",
            "Downloading data from https://storage.googleapis.com/tensorflow/tf-keras-datasets/train-images-idx3-ubyte.gz\n",
            "26421880/26421880 [==============================] - 0s 0us/step\n",
            "Downloading data from https://storage.googleapis.com/tensorflow/tf-keras-datasets/t10k-labels-idx1-ubyte.gz\n",
            "5148/5148 [==============================] - 0s 0us/step\n",
            "Downloading data from https://storage.googleapis.com/tensorflow/tf-keras-datasets/t10k-images-idx3-ubyte.gz\n",
            "4422102/4422102 [==============================] - 0s 0us/step\n"
          ]
        }
      ]
    },
    {
      "cell_type": "code",
      "source": [
        "print(X_train.shape)\n",
        "print(X_test.shape)"
      ],
      "metadata": {
        "colab": {
          "base_uri": "https://localhost:8080/"
        },
        "id": "cBhHii5mPEpL",
        "outputId": "3f327932-e13f-4ebd-d9cd-0fbec535fd33"
      },
      "execution_count": 6,
      "outputs": [
        {
          "output_type": "stream",
          "name": "stdout",
          "text": [
            "(60000, 28, 28)\n",
            "(10000, 28, 28)\n"
          ]
        }
      ]
    },
    {
      "cell_type": "code",
      "source": [
        "# this array keeps track for ind of each class\n",
        "images_ind = []\n",
        "# classes which are present\n",
        "class_names = [\"T-shirt/Top\", \"Trouser\", \"Pullover\", \"Dress\", \"Coat\", \"Sandal\", \"Shirt\", \"Sneaker\", \"Bag\", \"Ankle Boot\"]\n",
        "\n",
        "for i in range(10):\n",
        "  for ind in range(X_train.shape[0]):\n",
        "    if Y_train[ind] == i:\n",
        "      images_ind.append(ind)\n",
        "      break\n",
        "\n",
        "# print(images_ind)\n",
        "\n",
        "figure, axes = plt.subplots(2, 5, figsize=(10, 10))\n",
        "\n",
        "for i, ax in enumerate(axes.flat):\n",
        "  ind = images_ind[i]\n",
        "  ax.imshow(X_train[ind], cmap='gray')\n",
        "  ax.axis('off')\n",
        "  ax.set_title(class_names[i])\n",
        "\n",
        "plt.tight_layout()\n",
        "plt.show()  # Display the plot"
      ],
      "metadata": {
        "colab": {
          "base_uri": "https://localhost:8080/",
          "height": 636
        },
        "id": "KYAo8ZQzSSA2",
        "outputId": "150b84ac-327f-456d-ad0b-3df3c630f563"
      },
      "execution_count": 7,
      "outputs": [
        {
          "output_type": "display_data",
          "data": {
            "text/plain": [
              "<Figure size 1000x1000 with 10 Axes>"
            ],
            "image/png": "[encoded data removed]"
          },
          "metadata": {}
        }
      ]
    },
    {
      "cell_type": "code",
      "source": [
        "def sigmoid(x):\n",
        "    clip_x = np.clip(x, -500, 500)  # Clip x to avoid overflow\n",
        "    return 1 / (1 + np.exp(-clip_x))"
      ],
      "metadata": {
        "id": "vp_K0iYCegvc"
      },
      "execution_count": 107,
      "outputs": []
    },
    {
      "cell_type": "code",
      "source": [
        "def Initialise(Layers, LayerWise, inputSize, outputSize):\n",
        "  # need to initilaise the weights and basis\n",
        "  W = [] # weights list\n",
        "  B = [] # bias list\n",
        "  preActivation = []\n",
        "  activation = []\n",
        "\n",
        "  LayerWise.insert(0, inputSize)\n",
        "  for i in range(Layers):\n",
        "    w = np.random.rand(LayerWise[i+1], LayerWise[i])\n",
        "    b = np.random.rand(LayerWise[i+1])\n",
        "\n",
        "    pa = np.zeros(LayerWise[i+1], dtype=np.float64)\n",
        "    ac = np.zeros(LayerWise[i+1], dtype=np.float64)\n",
        "\n",
        "    preActivation.append(pa)\n",
        "    activation.append(ac)\n",
        "\n",
        "    W.append(w)\n",
        "    B.append(b)\n",
        "\n",
        "  # for final layer\n",
        "\n",
        "  return W, B, preActivation, activation"
      ],
      "metadata": {
        "id": "cFeOO30lSZSp"
      },
      "execution_count": 90,
      "outputs": []
    },
    {
      "cell_type": "code",
      "source": [
        "def feedForward(x, W, B, preActivation, activation):\n",
        "  # we need to predict the output for the x\n",
        "  n = len(W)\n",
        "  x = x.flatten()\n",
        "\n",
        "  y = x\n",
        "  for i in range(n):\n",
        "    preActivation[i] = np.dot(W[i], y) + B[i]\n",
        "    activation[i] = sigmoid(preActivation[i])\n",
        "    y = activation[i]\n",
        "\n",
        "\n",
        "  # in the last layer we wont do the activation\n",
        "  # we just need the sumation W^T.X + B of the last layer\n",
        "  y = preActivation[n-1]\n",
        "  e_x = np.exp(y)\n",
        "  y = e_x / e_x.sum()\n",
        "\n",
        "  return y"
      ],
      "metadata": {
        "id": "6QNyXY-aF2Mq"
      },
      "execution_count": 108,
      "outputs": []
    },
    {
      "cell_type": "code",
      "source": [
        "# layers = 4\n",
        "# nodes  = [128, 128, 64, 10]\n",
        "# inputSize  = 28*28\n",
        "# outputSize = 10\n",
        "# W, B, preActivation, activation  = Initialise(layers, nodes, inputSize, outputSize)\n",
        "# for i in range(10):\n",
        "#   y = feedForward(X_train[0], W, B, preActivation, activation)\n",
        "#   print(y)"
      ],
      "metadata": {
        "id": "sxmaWLTEbdwd"
      },
      "execution_count": 109,
      "outputs": []
    },
    {
      "cell_type": "code",
      "source": [
        "def findLoss(W, B, preActivation, activation):\n",
        "  loss = 0\n",
        "  for i in range(X_train.shape[0]):\n",
        "    y = feedForward(X_train[i], W, B, preActivation, activation)\n",
        "    # y returns the vector of the probabilities\n",
        "    loss = loss -1*math.log(y[Y_train[i]])\n",
        "\n",
        "  return loss"
      ],
      "metadata": {
        "id": "4TcwEPcAuuhs"
      },
      "execution_count": 110,
      "outputs": []
    },
    {
      "cell_type": "code",
      "source": [
        "def backWardPropogation(X, y_corr, W, preActivation, activation, y_prob):\n",
        "  layers = len(preActivation)\n",
        "  # layers are numberd from 0 ... n - 1\n",
        "  # and n-1 is output layer\n",
        "  dw = [] # weight updations\n",
        "  db = [] # bias updations\n",
        "  da_l = y_prob\n",
        "  da_l[y_corr] -= 1\n",
        "  # dA_L is derivative of the last layer(output) of loss with dA\n",
        "  layer = layers-1\n",
        "\n",
        "  da = da_l\n",
        "  dh = da_l\n",
        "  while layer >= 0:\n",
        "    dwk = np.outer(da, activation[layer-1], out=None)\n",
        "    if layer == 0:\n",
        "      dwk = np.outer(da, X, out=None)\n",
        "    dbk = da\n",
        "\n",
        "    if layer != 0:\n",
        "      dh = np.dot(W[layer].T, da)\n",
        "      dg = preActivation[layer-1]**2 - preActivation[layer-1]\n",
        "      da = dh * dg\n",
        "\n",
        "    dw.append(dwk)\n",
        "    db.append(dbk)\n",
        "\n",
        "    layer -= 1\n",
        "\n",
        "  # we are appending derivatives in the reverse direction\n",
        "  dw.reverse()\n",
        "  db.reverse()\n",
        "\n",
        "\n",
        "  return dw,db"
      ],
      "metadata": {
        "id": "Hz6K9TbLU03-"
      },
      "execution_count": 111,
      "outputs": []
    },
    {
      "cell_type": "code",
      "source": [
        "def gradient_decent(epochs, learningRate):\n",
        "  layers = 4\n",
        "  nodes  = [128, 128, 64, 10]\n",
        "  inputSize  = 28*28\n",
        "  outputSize = 10\n",
        "  W, B, preActivation, activation  = Initialise(layers, nodes, inputSize, outputSize)\n",
        "  iteration = 0\n",
        "\n",
        "  print(findLoss(W, B, preActivation, activation))\n",
        "\n",
        "  while(iteration < epochs):\n",
        "    dW = [np.zeros(array.shape) for array in W]\n",
        "    dB = [np.zeros(array.shape) for array in B]\n",
        "\n",
        "    for i in range(X_train.shape[0]):\n",
        "      y = feedForward(X_train[i], W, B, preActivation, activation)\n",
        "      # these are the partial derivates for one point\n",
        "      dw, db = backWardPropogation(X_train[i], Y_train[i], W, preActivation, activation, y)\n",
        "\n",
        "      # we need to update this for every point\n",
        "      for i in range(len(dw)):\n",
        "        dW[i] = dW[i] + dw[i]\n",
        "        dB[i] = dB[i] + db[i]\n",
        "\n",
        "\n",
        "    # updating weights and baises\n",
        "    for i in range(len(dw)):\n",
        "        W[i] = W[i] - learningRate*dw[i]\n",
        "        B[i] = B[i] - learningRate*db[i]\n",
        "\n",
        "\n",
        "    iteration += 1\n",
        "\n",
        "    print(findLoss(W, B, preActivation, activation))\n",
        "\n"
      ],
      "metadata": {
        "id": "0dhzktpZ99Ni"
      },
      "execution_count": 124,
      "outputs": []
    },
    {
      "cell_type": "code",
      "source": [
        "gradient_decent(4, 0.001)"
      ],
      "metadata": {
        "colab": {
          "base_uri": "https://localhost:8080/"
        },
        "id": "DnLhH8xMGzHA",
        "outputId": "bb5e717a-4a49-4e3a-a6bf-dc2ec9dd249b"
      },
      "execution_count": 125,
      "outputs": [
        {
          "output_type": "stream",
          "name": "stdout",
          "text": [
            "262132.05754202578\n",
            "219791.17213686238\n",
            "345170.83633471583\n",
            "345279.6273645376\n"
          ]
        },
        {
          "output_type": "stream",
          "name": "stderr",
          "text": [
            "<ipython-input-111-d3c865fe69b0>:23: RuntimeWarning: overflow encountered in multiply\n",
            "  da = dh * dg\n",
            "<ipython-input-124-ac858b104c03>:22: RuntimeWarning: invalid value encountered in add\n",
            "  dW[i] = dW[i] + dw[i]\n",
            "<ipython-input-124-ac858b104c03>:23: RuntimeWarning: invalid value encountered in add\n",
            "  dB[i] = dB[i] + db[i]\n"
          ]
        },
        {
          "output_type": "stream",
          "name": "stdout",
          "text": [
            "nan\n"
          ]
        }
      ]
    },
    {
      "cell_type": "code",
      "source": [
        "learningRate = 3\n",
        "x = [np.array([1]), np.array([[3,4],[4,5]]), np.array([4,5,6])]\n",
        "y = [np.array([1]), np.array([[3,4],[4,5]]), np.array([4,5,6])]\n",
        "\n",
        "for i in range(len(x)):\n",
        "  x[i] = x[i] + y[i]*learningRate"
      ],
      "metadata": {
        "id": "QRYYSulTIJwC"
      },
      "execution_count": 119,
      "outputs": []
    },
    {
      "cell_type": "code",
      "source": [
        "x"
      ],
      "metadata": {
        "colab": {
          "base_uri": "https://localhost:8080/"
        },
        "id": "RNDNA7AcNxAD",
        "outputId": "6b51aca0-9bdf-46af-f99e-c1de6ee49d01"
      },
      "execution_count": 120,
      "outputs": [
        {
          "output_type": "execute_result",
          "data": {
            "text/plain": [
              "[array([4]),\n",
              " array([[12, 16],\n",
              "        [16, 20]]),\n",
              " array([16, 20, 24])]"
            ]
          },
          "metadata": {},
          "execution_count": 120
        }
      ]
    },
    {
      "cell_type": "code",
      "source": [],
      "metadata": {
        "id": "Btq6OjgHOFaz"
      },
      "execution_count": null,
      "outputs": []
    }
  ]
}