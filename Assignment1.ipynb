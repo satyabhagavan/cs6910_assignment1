{
  "cells": [
    {
      "cell_type": "markdown",
      "metadata": {
        "id": "pYFE_FjORfmY"
      },
      "source": [
        "Fashion MNIST"
      ]
    },
    {
      "cell_type": "code",
      "execution_count": 1,
      "metadata": {
        "colab": {
          "base_uri": "https://localhost:8080/"
        },
        "id": "3nzOH8J49_z_",
        "outputId": "141901e0-69d4-47cf-dca5-6ca2d17479af"
      },
      "outputs": [
        {
          "output_type": "stream",
          "name": "stdout",
          "text": [
            "Collecting wandb\n",
            "  Downloading wandb-0.16.4-py3-none-any.whl (2.2 MB)\n",
            "\u001b[2K     \u001b[90m━━━━━━━━━━━━━━━━━━━━━━━━━━━━━━━━━━━━━━━━\u001b[0m \u001b[32m2.2/2.2 MB\u001b[0m \u001b[31m10.1 MB/s\u001b[0m eta \u001b[36m0:00:00\u001b[0m\n",
            "\u001b[?25hRequirement already satisfied: Click!=8.0.0,>=7.1 in /usr/local/lib/python3.10/dist-packages (from wandb) (8.1.7)\n",
            "Collecting GitPython!=3.1.29,>=1.0.0 (from wandb)\n",
            "  Downloading GitPython-3.1.42-py3-none-any.whl (195 kB)\n",
            "\u001b[2K     \u001b[90m━━━━━━━━━━━━━━━━━━━━━━━━━━━━━━━━━━━━━━━━\u001b[0m \u001b[32m195.4/195.4 kB\u001b[0m \u001b[31m13.4 MB/s\u001b[0m eta \u001b[36m0:00:00\u001b[0m\n",
            "\u001b[?25hRequirement already satisfied: requests<3,>=2.0.0 in /usr/local/lib/python3.10/dist-packages (from wandb) (2.31.0)\n",
            "Requirement already satisfied: psutil>=5.0.0 in /usr/local/lib/python3.10/dist-packages (from wandb) (5.9.5)\n",
            "Collecting sentry-sdk>=1.0.0 (from wandb)\n",
            "  Downloading sentry_sdk-1.42.0-py2.py3-none-any.whl (263 kB)\n",
            "\u001b[2K     \u001b[90m━━━━━━━━━━━━━━━━━━━━━━━━━━━━━━━━━━━━━━━━\u001b[0m \u001b[32m263.5/263.5 kB\u001b[0m \u001b[31m3.3 MB/s\u001b[0m eta \u001b[36m0:00:00\u001b[0m\n",
            "\u001b[?25hCollecting docker-pycreds>=0.4.0 (from wandb)\n",
            "  Downloading docker_pycreds-0.4.0-py2.py3-none-any.whl (9.0 kB)\n",
            "Requirement already satisfied: PyYAML in /usr/local/lib/python3.10/dist-packages (from wandb) (6.0.1)\n",
            "Collecting setproctitle (from wandb)\n",
            "  Downloading setproctitle-1.3.3-cp310-cp310-manylinux_2_5_x86_64.manylinux1_x86_64.manylinux_2_17_x86_64.manylinux2014_x86_64.whl (30 kB)\n",
            "Requirement already satisfied: setuptools in /usr/local/lib/python3.10/dist-packages (from wandb) (67.7.2)\n",
            "Requirement already satisfied: appdirs>=1.4.3 in /usr/local/lib/python3.10/dist-packages (from wandb) (1.4.4)\n",
            "Requirement already satisfied: protobuf!=4.21.0,<5,>=3.19.0 in /usr/local/lib/python3.10/dist-packages (from wandb) (3.20.3)\n",
            "Requirement already satisfied: six>=1.4.0 in /usr/local/lib/python3.10/dist-packages (from docker-pycreds>=0.4.0->wandb) (1.16.0)\n",
            "Collecting gitdb<5,>=4.0.1 (from GitPython!=3.1.29,>=1.0.0->wandb)\n",
            "  Downloading gitdb-4.0.11-py3-none-any.whl (62 kB)\n",
            "\u001b[2K     \u001b[90m━━━━━━━━━━━━━━━━━━━━━━━━━━━━━━━━━━━━━━━━\u001b[0m \u001b[32m62.7/62.7 kB\u001b[0m \u001b[31m6.1 MB/s\u001b[0m eta \u001b[36m0:00:00\u001b[0m\n",
            "\u001b[?25hRequirement already satisfied: charset-normalizer<4,>=2 in /usr/local/lib/python3.10/dist-packages (from requests<3,>=2.0.0->wandb) (3.3.2)\n",
            "Requirement already satisfied: idna<4,>=2.5 in /usr/local/lib/python3.10/dist-packages (from requests<3,>=2.0.0->wandb) (3.6)\n",
            "Requirement already satisfied: urllib3<3,>=1.21.1 in /usr/local/lib/python3.10/dist-packages (from requests<3,>=2.0.0->wandb) (2.0.7)\n",
            "Requirement already satisfied: certifi>=2017.4.17 in /usr/local/lib/python3.10/dist-packages (from requests<3,>=2.0.0->wandb) (2024.2.2)\n",
            "Collecting smmap<6,>=3.0.1 (from gitdb<5,>=4.0.1->GitPython!=3.1.29,>=1.0.0->wandb)\n",
            "  Downloading smmap-5.0.1-py3-none-any.whl (24 kB)\n",
            "Installing collected packages: smmap, setproctitle, sentry-sdk, docker-pycreds, gitdb, GitPython, wandb\n",
            "Successfully installed GitPython-3.1.42 docker-pycreds-0.4.0 gitdb-4.0.11 sentry-sdk-1.42.0 setproctitle-1.3.3 smmap-5.0.1 wandb-0.16.4\n"
          ]
        }
      ],
      "source": [
        "!pip install wandb\n",
        "import wandb"
      ]
    },
    {
      "cell_type": "code",
      "execution_count": 2,
      "metadata": {
        "id": "88B3FZLgROCd"
      },
      "outputs": [],
      "source": [
        "from keras.datasets import fashion_mnist\n",
        "from sklearn.model_selection import train_test_split\n",
        "import matplotlib.pyplot as plt\n",
        "import numpy as np\n",
        "import pandas as pd\n",
        "import math"
      ]
    },
    {
      "cell_type": "code",
      "execution_count": 3,
      "metadata": {
        "id": "q7T1Yop-VxNA",
        "colab": {
          "base_uri": "https://localhost:8080/"
        },
        "outputId": "61953c25-e3cd-4c25-db93-78fd78269258"
      },
      "outputs": [
        {
          "output_type": "stream",
          "name": "stdout",
          "text": [
            "\u001b[34m\u001b[1mwandb\u001b[0m: Logging into wandb.ai. (Learn how to deploy a W&B server locally: https://wandb.me/wandb-server)\n",
            "\u001b[34m\u001b[1mwandb\u001b[0m: You can find your API key in your browser here: https://wandb.ai/authorize\n",
            "\u001b[34m\u001b[1mwandb\u001b[0m: Paste an API key from your profile and hit enter, or press ctrl+c to quit: \n",
            "\u001b[34m\u001b[1mwandb\u001b[0m: Appending key for api.wandb.ai to your netrc file: /root/.netrc\n"
          ]
        }
      ],
      "source": [
        "!wandb login\n",
        "\n",
        "#338ff25d87248e7f3e86e98c746e32fe09553c9e"
      ]
    },
    {
      "cell_type": "code",
      "execution_count": null,
      "metadata": {
        "id": "d4wHMH8dR8y3"
      },
      "outputs": [],
      "source": [
        "(X_train, Y_train), (X_test, Y_test) = fashion_mnist.load_data()\n",
        "X_train, X_val, Y_train, Y_val = train_test_split(X_train, Y_train, test_size=0.2, random_state=42)\n"
      ]
    },
    {
      "cell_type": "code",
      "execution_count": null,
      "metadata": {
        "colab": {
          "base_uri": "https://localhost:8080/"
        },
        "id": "cBhHii5mPEpL",
        "outputId": "77112b04-05f2-4b05-d862-21fe2145a91a"
      },
      "outputs": [
        {
          "output_type": "stream",
          "name": "stdout",
          "text": [
            "(48000, 28, 28)\n",
            "(10000, 28, 28)\n",
            "(12000, 28, 28)\n"
          ]
        }
      ],
      "source": [
        "print(X_train.shape)\n",
        "print(X_test.shape)\n",
        "print(X_val.shape)"
      ]
    },
    {
      "cell_type": "code",
      "execution_count": null,
      "metadata": {
        "colab": {
          "base_uri": "https://localhost:8080/",
          "height": 636
        },
        "id": "KYAo8ZQzSSA2",
        "outputId": "69cbc570-29c7-452f-95a5-51e8e0d01750"
      },
      "outputs": [
        {
          "output_type": "display_data",
          "data": {
            "text/plain": [
              "<Figure size 1000x1000 with 10 Axes>"
            ],
            "image/png": "[encoded data removed]"
          },
          "metadata": {}
        }
      ],
      "source": [
        "# this array keeps track for ind of each class\n",
        "images_ind = []\n",
        "# classes which are present\n",
        "class_names = [\"T-shirt/Top\", \"Trouser\", \"Pullover\", \"Dress\", \"Coat\", \"Sandal\", \"Shirt\", \"Sneaker\", \"Bag\", \"Ankle Boot\"]\n",
        "\n",
        "for i in range(10):\n",
        "  for ind in range(X_train.shape[0]):\n",
        "    if Y_train[ind] == i:\n",
        "      images_ind.append(ind)\n",
        "      break\n",
        "\n",
        "# print(images_ind)\n",
        "\n",
        "figure, axes = plt.subplots(2, 5, figsize=(10, 10))\n",
        "\n",
        "for i, ax in enumerate(axes.flat):\n",
        "  ind = images_ind[i]\n",
        "  ax.imshow(X_train[ind], cmap='gray')\n",
        "  ax.axis('off')\n",
        "  ax.set_title(class_names[i])\n",
        "\n",
        "plt.tight_layout()\n",
        "plt.show()  # Display the plot"
      ]
    },
    {
      "cell_type": "code",
      "source": [
        "# normalsing and resisizing all the images\n",
        "X_train = X_train/255.0\n",
        "X_test  = X_test/255.0\n",
        "X_val   = X_val/255.0\n",
        "\n",
        "X_train = X_train.reshape(X_train.shape[0], 784).T\n",
        "X_test = X_test.reshape(X_test.shape[0], 784).T\n",
        "X_val = X_val.reshape(X_val.shape[0], 784).T\n",
        "print(X_train.shape[0])\n"
      ],
      "metadata": {
        "id": "YlGrK71y-Xcd",
        "colab": {
          "base_uri": "https://localhost:8080/"
        },
        "outputId": "36983163-1b8c-434a-fd7f-749e26484c88"
      },
      "execution_count": null,
      "outputs": [
        {
          "output_type": "stream",
          "name": "stdout",
          "text": [
            "784\n"
          ]
        }
      ]
    },
    {
      "cell_type": "code",
      "execution_count": null,
      "metadata": {
        "id": "vp_K0iYCegvc"
      },
      "outputs": [],
      "source": [
        "def sigmoid(x):\n",
        "    clip_x = np.clip(x, -500, 500)  # Cliping x to avoid overflow\n",
        "    return 1 / (1 + np.exp(-clip_x))"
      ]
    },
    {
      "cell_type": "code",
      "execution_count": null,
      "metadata": {
        "id": "g5knxthLglqc"
      },
      "outputs": [],
      "source": [
        "def Initialise(Layers, LayerWise, InputSize, OutputSize):\n",
        "  # initialising weights and biases as a key value pair\n",
        "  W = {}\n",
        "  B = {}\n",
        "\n",
        "  PreActivation = {}\n",
        "  Activation = {}\n",
        "\n",
        "  # adding input layer\n",
        "  LayerWise.insert(0, InputSize)\n",
        "  for i in range(Layers):\n",
        "    W[i+1] = 0.01*np.random.randn(LayerWise[i+1], LayerWise[i])\n",
        "    B[i+1] = 0.01*np.random.randn(LayerWise[i+1], 1)\n",
        "\n",
        "    # preactivation and activation will have same size\n",
        "    PreActivation[i+1] = np.zeros((LayerWise[i+1], 1))\n",
        "    Activation[i+1]    = np.zeros((LayerWise[i+1], 1))\n",
        "  del LayerWise[0]\n",
        "\n",
        "  return W,B,PreActivation,Activation\n",
        "\n",
        "def InitialiseEmptyWeightsAndBiases(Layers, LayerWise, InputSize):\n",
        "  W = {}\n",
        "  B = {}\n",
        "  LayerWise.insert(0, InputSize)\n",
        "  for i in range(Layers):\n",
        "    W[i+1] = np.zeros((LayerWise[i+1], LayerWise[i]))\n",
        "    B[i+1] = np.zeros((LayerWise[i+1], 1))\n",
        "  del LayerWise[0]\n",
        "\n",
        "  return W,B\n"
      ]
    },
    {
      "cell_type": "code",
      "execution_count": null,
      "metadata": {
        "id": "Y8Y2SUctr2Jj"
      },
      "outputs": [],
      "source": [
        "def FeedForward(x, W, B, preActivation, activation):\n",
        "  # no of layers\n",
        "  n = len(W)\n",
        "  # here x can be list of elements at a go\n",
        "  # softmax function\n",
        "  y = x\n",
        "  for i in range(1, n+1):\n",
        "    preActivation[i] = np.dot(W[i], y) + B[i]\n",
        "    activation[i] = sigmoid(preActivation[i])\n",
        "    y = activation[i]\n",
        "\n",
        "  # last layer we don't need activation\n",
        "  y = preActivation[n]\n",
        "  # doing softmax\n",
        "  # doing the each column wise\n",
        "  exp_y = np.exp(y - np.max(y, axis=0, keepdims=True))  # Improve numerical stability\n",
        "  y = exp_y / np.sum(exp_y, axis=0, keepdims=True)\n",
        "  return y"
      ]
    },
    {
      "cell_type": "code",
      "execution_count": null,
      "metadata": {
        "id": "zYN3-nH5whWZ"
      },
      "outputs": [],
      "source": [
        "def BackWardPropogation(X, y_corr, W, preActivation, activation, y_hat):\n",
        "  # y_hat is the prediction\n",
        "  # y_corr is the correct class\n",
        "\n",
        "  dw = {}\n",
        "  db = {}\n",
        "\n",
        "  # these many points are there in the batch\n",
        "  batchSize = y_corr.shape[0]\n",
        "  da_l = y_hat\n",
        "\n",
        "  ind = 0\n",
        "  while ind < batchSize:\n",
        "    da_l[y_corr[ind]][ind] -= 1\n",
        "    ind += 1\n",
        "  da = da_l\n",
        "\n",
        "\n",
        "  activation[0] = X\n",
        "  layer = len(W)\n",
        "  dh = da #used for finding next layer\n",
        "  while layer >= 1:\n",
        "    dw[layer] = np.dot(da, activation[layer-1].T)\n",
        "    db[layer] = da.sum(axis=1, keepdims=True)\n",
        "    if layer > 1:\n",
        "      dh = np.dot(W[layer].T, da)\n",
        "      dg = activation[layer-1] * (1 - activation[layer-1])\n",
        "      da = dh * dg\n",
        "      # hedamant product\n",
        "\n",
        "    layer -= 1\n",
        "\n",
        "\n",
        "  return dw, db"
      ]
    },
    {
      "cell_type": "code",
      "execution_count": null,
      "metadata": {
        "id": "G9uwy4wQu8iS"
      },
      "outputs": [],
      "source": [
        "def findLoss(W, B, preActivation, activation):\n",
        "  loss = 0\n",
        "  for i in range(X_train.shape[1]):\n",
        "    y = FeedForward(X_train[:,i, np.newaxis], W, B, preActivation, activation)\n",
        "    # y returns the vector of the probabilities\n",
        "    # y_train[i] is the correct prediction of the data\n",
        "    loss = loss -1*math.log(y[Y_train[i]])\n",
        "\n",
        "  return loss"
      ]
    },
    {
      "cell_type": "code",
      "execution_count": null,
      "metadata": {
        "id": "D5zCb-qbHG9U"
      },
      "outputs": [],
      "source": [
        "def FindAccuracy(W, B, preActivation, activation):\n",
        "  n = X_test.shape[1]\n",
        "  correct = 0\n",
        "  y = FeedForward(X_train, W, B, preActivation, activation)\n",
        "\n",
        "  for i in range(n):\n",
        "    y_pred = np.argmax(y[:,i])\n",
        "    if Y_train[i] == y_pred:\n",
        "      correct += 1\n",
        "\n",
        "  return (correct*100/ n)\n"
      ]
    },
    {
      "cell_type": "code",
      "execution_count": null,
      "metadata": {
        "id": "zwwIyzSBz8eS"
      },
      "outputs": [],
      "source": [
        "def gradient_decent(epochs, learningRate):\n",
        "  layers = 3\n",
        "  nodes  = [128, 64, 10]\n",
        "  inputSize  = 28*28\n",
        "  outputSize = 10\n",
        "  W, B, preActivation, activation  = Initialise(layers, nodes, inputSize, outputSize)\n",
        "  iteration = 0\n",
        "\n",
        "\n",
        "  while(iteration < epochs):\n",
        "    dW, dB = InitialiseEmptyWeightsAndBiases(layers, nodes, inputSize)\n",
        "\n",
        "    for i in range(X_train.shape[1]):\n",
        "      y = FeedForward(X_train[:,i, np.newaxis], W, B, preActivation, activation)\n",
        "      # these are the partial derivates for one point\n",
        "      dw, db = BackWardPropogation(X_train[:,i,np.newaxis], Y_train[i], W, preActivation, activation, y)\n",
        "\n",
        "      # we need to update this for every layer\n",
        "      for j in range(1, layers+1):\n",
        "          dW[j] = dW[j] + dw[j]\n",
        "          dB[j] = dB[j] + db[j]\n",
        "\n",
        "\n",
        "    # overall updation\n",
        "    # updating weights and baises\n",
        "    for i in range(1, layers+1):\n",
        "        W[i] = W[i] - learningRate*dW[i]\n",
        "        B[i] = B[i] - learningRate*dB[i]\n",
        "\n",
        "    # if iteration%5 == 0:\n",
        "    print(FindAccuracy(W, B, preActivation, activation))\n",
        "    iteration += 1\n",
        "\n"
      ]
    },
    {
      "cell_type": "code",
      "execution_count": null,
      "metadata": {
        "colab": {
          "base_uri": "https://localhost:8080/"
        },
        "id": "Btq6OjgHOFaz",
        "outputId": "d3e596cf-eb49-4568-b303-1129d159f96c"
      },
      "outputs": [
        {
          "output_type": "stream",
          "name": "stdout",
          "text": [
            "9.09\n",
            "8.74\n",
            "9.19\n",
            "9.51\n",
            "9.98\n",
            "10.33\n",
            "10.63\n",
            "10.89\n",
            "11.22\n",
            "11.58\n",
            "12.03\n",
            "12.39\n"
          ]
        }
      ],
      "source": [
        "gradient_decent(12, 0.00001)"
      ]
    },
    {
      "cell_type": "code",
      "execution_count": null,
      "metadata": {
        "id": "6szaHgG-nQya"
      },
      "outputs": [],
      "source": [
        "def StochasticGradientDecent(epochs, learningRate, batchSize):\n",
        "  layers = 3\n",
        "  nodes  = [128, 64, 10]\n",
        "  inputSize  = 28*28\n",
        "  outputSize = 10\n",
        "  W, B, preActivation, activation  = Initialise(layers, nodes, inputSize, outputSize)\n",
        "  iteration = 0\n",
        "  empty_W, empty_B = InitialiseEmptyWeightsAndBiases(layers, nodes, inputSize)\n",
        "\n",
        "  while(iteration < epochs):\n",
        "    updates_W, updates_B = InitialiseEmptyWeightsAndBiases(layers, nodes, inputSize)\n",
        "    i = 0\n",
        "    while i < X_train.shape[1]:\n",
        "      y = FeedForward(X_train[:, i:i+batchSize], W, B, preActivation, activation)\n",
        "      # these are the partial derivates for one point\n",
        "      dw, db = BackWardPropogation(X_train[:, i:i+batchSize], Y_train[i:i+batchSize], W, preActivation, activation, y)\n",
        "\n",
        "      # we need to update this for every layer\n",
        "      for j in range(1, layers+1):\n",
        "          updates_W[j] = updates_W[j] + dw[j]\n",
        "          updates_B[j] = updates_B[j] + db[j]\n",
        "\n",
        "        # we will update the weights now\n",
        "      for k in range(1, layers+1):\n",
        "          W[k] = W[k] - learningRate*updates_W[k]\n",
        "          B[k] = B[k] - learningRate*updates_B[k]\n",
        "\n",
        "      # reinitiallising them to zeros\n",
        "      updates_W, updates_B = InitialiseEmptyWeightsAndBiases(layers, nodes, inputSize)\n",
        "      i += batchSize\n",
        "\n",
        "    print(FindAccuracy(W, B, preActivation, activation))\n",
        "    iteration += 1"
      ]
    },
    {
      "cell_type": "code",
      "execution_count": null,
      "metadata": {
        "colab": {
          "base_uri": "https://localhost:8080/"
        },
        "id": "bfH_W9XTnQvJ",
        "outputId": "ed669ee7-8e59-49f9-e603-1c1dbf53f3d2"
      },
      "outputs": [
        {
          "output_type": "stream",
          "name": "stdout",
          "text": [
            "9.74\n",
            "9.74\n",
            "26.97\n",
            "44.76\n",
            "61.71\n",
            "65.79\n",
            "71.14\n",
            "74.35\n",
            "76.09\n",
            "77.38\n"
          ]
        }
      ],
      "source": [
        "StochasticGradientDecent(10, 0.001, 2)"
      ]
    },
    {
      "cell_type": "code",
      "source": [
        "StochasticGradientDecent(10, 0.001, 16)"
      ],
      "metadata": {
        "id": "EQh198pFZLfy",
        "colab": {
          "base_uri": "https://localhost:8080/"
        },
        "outputId": "3878798d-23a7-4133-f4dc-1ee1bead2356"
      },
      "execution_count": null,
      "outputs": [
        {
          "output_type": "stream",
          "name": "stdout",
          "text": [
            "10.9\n",
            "9.74\n",
            "28.61\n",
            "48.24\n",
            "60.94\n",
            "65.48\n",
            "70.58\n",
            "73.62\n",
            "75.88\n",
            "77.44\n"
          ]
        }
      ]
    },
    {
      "cell_type": "code",
      "source": [
        "def MomentBasedGradientDecent(epochs, learningRate, batchSize, betha):\n",
        "  layers = 3\n",
        "  nodes  = [128, 64, 10]\n",
        "  inputSize  = 28*28\n",
        "  outputSize = 10\n",
        "  W, B, preActivation, activation  = Initialise(layers, nodes, inputSize, outputSize)\n",
        "\n",
        "  iteration = 0\n",
        "  u_W, u_B = InitialiseEmptyWeightsAndBiases(layers, nodes, inputSize)\n",
        "  # inititialising u to be zero\n",
        "\n",
        "  while(iteration < epochs):\n",
        "    updates_W, updates_B = InitialiseEmptyWeightsAndBiases(layers, nodes, inputSize)\n",
        "    i = 0\n",
        "    while i < X_train.shape[1]:\n",
        "      # batch wise forward and backward passes\n",
        "      y = FeedForward(X_train[:, i:i+batchSize], W, B, preActivation, activation)\n",
        "      dw, db = BackWardPropogation(X_train[:, i:i+batchSize], Y_train[i:i+batchSize], W, preActivation, activation, y)\n",
        "\n",
        "      # update the momentum with the gradient\n",
        "      for k in range(1, layers+1):\n",
        "        u_W[k] = u_W[k]*betha + dw[k]\n",
        "        u_B[k] = u_B[k]*betha + db[k]\n",
        "\n",
        "      # we will update the weights now with the momentum\n",
        "      for k in range(1, layers+1):\n",
        "          W[k] = W[k] - learningRate*u_W[k]\n",
        "          B[k] = B[k] - learningRate*u_B[k]\n",
        "\n",
        "      # next batch\n",
        "      i += batchSize\n",
        "\n",
        "    print(FindAccuracy(W, B, preActivation, activation))\n",
        "    iteration += 1"
      ],
      "metadata": {
        "id": "B1EW6wDy6VsA"
      },
      "execution_count": null,
      "outputs": []
    },
    {
      "cell_type": "code",
      "source": [
        "MomentBasedGradientDecent(2, 0.001, 16, 0.5)"
      ],
      "metadata": {
        "colab": {
          "base_uri": "https://localhost:8080/"
        },
        "id": "CMFeB6DU6Vl_",
        "outputId": "374bd4e7-8122-4ab8-939f-98baa88b7b86"
      },
      "execution_count": null,
      "outputs": [
        {
          "output_type": "stream",
          "name": "stdout",
          "text": [
            "53.42\n",
            "73.71\n"
          ]
        }
      ]
    },
    {
      "cell_type": "code",
      "source": [],
      "metadata": {
        "id": "qx12m1oNVzcZ"
      },
      "execution_count": null,
      "outputs": []
    },
    {
      "cell_type": "code",
      "source": [
        "def NestrovBasedGradientDescent(epochs, learningRate, batchSize, beta):\n",
        "  layers = 4\n",
        "  nodes = [128, 128, 128, 10]\n",
        "  inputSize = 28*28\n",
        "  outputSize = 10\n",
        "  W, B, preActivation, activation = Initialise(layers, nodes, inputSize, outputSize)\n",
        "  iteration = 0\n",
        "  u_W, u_B = InitialiseEmptyWeightsAndBiases(layers, nodes, inputSize)\n",
        "  # initializing u to be zero\n",
        "\n",
        "  while(iteration < epochs):\n",
        "    i = 0\n",
        "    while i < X_train.shape[1]:\n",
        "\n",
        "      y = FeedForward(X_train[:, i:i+batchSize], W, B, preActivation, activation)\n",
        "      dw, db = BackWardPropogation(X_train[:, i:i+batchSize], Y_train[i:i+batchSize], W, preActivation, activation, y)\n",
        "\n",
        "      for k in range(1, layers+1):\n",
        "          u_W[k] = u_W[k]*beta + dw[k]\n",
        "          u_B[k] = u_B[k]*beta + db[k]\n",
        "\n",
        "      for k in range(1, layers+1):\n",
        "          W[k] = W[k] - learningRate*(beta* u_W[k]+ dw[k])\n",
        "          B[k] = B[k] - learningRate*(beta* u_B[k]+ db[k])\n",
        "\n",
        "      i += batchSize\n",
        "\n",
        "    print(FindAccuracy(W, B, preActivation, activation))\n",
        "    iteration += 1\n"
      ],
      "metadata": {
        "id": "7T5I4-MSA3p1"
      },
      "execution_count": null,
      "outputs": []
    },
    {
      "cell_type": "code",
      "source": [
        "NestrovBasedGradientDescent(5, 0.001, 16, 0.9)"
      ],
      "metadata": {
        "colab": {
          "base_uri": "https://localhost:8080/"
        },
        "id": "DqfoVvkMla39",
        "outputId": "d9d4b6b8-1707-4770-b71b-09e6f5342cfe"
      },
      "execution_count": null,
      "outputs": [
        {
          "output_type": "stream",
          "name": "stdout",
          "text": [
            "20.19\n",
            "45.55\n",
            "61.73\n",
            "70.29\n",
            "75.45\n"
          ]
        }
      ]
    },
    {
      "cell_type": "code",
      "source": [
        "NestrovBasedGradientDescent(10, 0.0001, 16, 0.9)"
      ],
      "metadata": {
        "colab": {
          "base_uri": "https://localhost:8080/"
        },
        "id": "kmtyS4MqMCXo",
        "outputId": "81a37c71-8f8d-48c8-f1b9-aa7b06b5001f"
      },
      "execution_count": null,
      "outputs": [
        {
          "output_type": "stream",
          "name": "stdout",
          "text": [
            "10.22\n",
            "10.22\n",
            "10.22\n",
            "10.42\n",
            "15.01\n",
            "9.5\n",
            "9.42\n",
            "9.43\n",
            "9.42\n",
            "9.42\n"
          ]
        }
      ]
    },
    {
      "cell_type": "markdown",
      "source": [
        "RMSPROP updation rule\n",
        "$$v_t = \\beta v_{t-1} + (1 - \\beta)\\nabla w_t^2$$\n",
        "$$w_{t+1} = w_t - \\frac{\\eta}{\\sqrt{v_t + \\epsilon}} \\nabla w_t$$\n",
        "\n"
      ],
      "metadata": {
        "id": "IwQvhBeETOdC"
      }
    },
    {
      "cell_type": "code",
      "source": [
        "def RMSPROP(epochs, learningRate, batchSize, betha, epsioln):\n",
        "  layers = 3\n",
        "  nodes  = [128, 128, 128, 10]\n",
        "  inputSize  = 28*28\n",
        "  outputSize = 10\n",
        "  iteration = 0\n",
        "\n",
        "  W, B, preActivation, activation  = Initialise(layers, nodes, inputSize, outputSize)\n",
        "  v_W, v_B = InitialiseEmptyWeightsAndBiases(layers, nodes, inputSize)\n",
        "  # inititialising u to be zero\n",
        "\n",
        "  while(iteration < epochs):\n",
        "    i = 0\n",
        "    while i < X_train.shape[1]:\n",
        "      y = FeedForward(X_train[:, i:i+batchSize], W, B, preActivation, activation)\n",
        "      dw, db = BackWardPropogation(X_train[:, i:i+batchSize], Y_train[i:i+batchSize], W, preActivation, activation, y)\n",
        "\n",
        "      # update the v values with the gradient\n",
        "      for k in range(1, layers+1):\n",
        "        v_W[k] = v_W[k]*betha + (1 - betha) * (dw[k] ** 2)\n",
        "        v_B[k] = v_B[k]*betha + (1 - betha) * (db[k] ** 2)\n",
        "\n",
        "      # we will update the weights now with the momentum\n",
        "      for k in range(1, layers+1):\n",
        "        W[k] = W[k] - (learningRate/np.sqrt(v_W[k] + epsioln))*dw[k]\n",
        "        B[k] = B[k] - (learningRate/np.sqrt(v_B[k] + epsioln))*db[k]\n",
        "\n",
        "      i += batchSize\n",
        "\n",
        "    print(FindAccuracy(W, B, preActivation, activation))\n",
        "    iteration += 1"
      ],
      "metadata": {
        "id": "iSPR-OjcMCRd"
      },
      "execution_count": null,
      "outputs": []
    },
    {
      "cell_type": "code",
      "source": [
        "RMSPROP(8, 0.001, 16, 0.9, 0.005)"
      ],
      "metadata": {
        "colab": {
          "base_uri": "https://localhost:8080/"
        },
        "id": "Y2wfl9SfpzYB",
        "outputId": "4be90e96-1581-4916-c624-49b397804535"
      },
      "execution_count": null,
      "outputs": [
        {
          "output_type": "stream",
          "name": "stdout",
          "text": [
            "51.8\n",
            "77.19\n",
            "83.34\n",
            "85.02\n",
            "86.0\n",
            "86.72\n",
            "87.27\n",
            "87.61\n"
          ]
        }
      ]
    },
    {
      "cell_type": "code",
      "source": [
        "RMSPROP(10, 0.0001, 64, 0.9, 0.0005)"
      ],
      "metadata": {
        "colab": {
          "base_uri": "https://localhost:8080/"
        },
        "id": "a1Uhe0rsCvHv",
        "outputId": "454e5112-6419-4442-e286-f42aaef5846e"
      },
      "execution_count": null,
      "outputs": [
        {
          "output_type": "stream",
          "name": "stdout",
          "text": [
            "9.74\n",
            "21.52\n",
            "36.86\n",
            "42.52\n",
            "47.53\n",
            "53.33\n",
            "57.92\n",
            "64.31\n",
            "69.32\n",
            "71.49\n"
          ]
        }
      ]
    },
    {
      "cell_type": "code",
      "source": [
        "def ADAM(epochs, learningRate, batchSize, betha1, betha2, epsioln):\n",
        "  layers = 3\n",
        "  nodes  = [128, 64, 10]\n",
        "  inputSize  = 28*28\n",
        "  outputSize = 10\n",
        "  iteration = 0\n",
        "\n",
        "  W, B, preActivation, activation  = Initialise(layers, nodes, inputSize, outputSize)\n",
        "  v_W, v_B = InitialiseEmptyWeightsAndBiases(layers, nodes, inputSize)\n",
        "  m_W, m_B = InitialiseEmptyWeightsAndBiases(layers, nodes, inputSize)\n",
        "  mhat_W, mhat_B = InitialiseEmptyWeightsAndBiases(layers, nodes, inputSize)\n",
        "  vhat_W, vhat_B = InitialiseEmptyWeightsAndBiases(layers, nodes, inputSize)\n",
        "  # inititialising u to be zero\n",
        "  t = 1\n",
        "\n",
        "  while(iteration < epochs):\n",
        "    # this is used to compute the gradients\n",
        "    i = 0\n",
        "    while i < X_train.shape[1]:\n",
        "      y = FeedForward(X_train[:, i:i+batchSize], W, B, preActivation, activation)\n",
        "      dw, db = BackWardPropogation(X_train[:, i:i+batchSize], Y_train[i:i+batchSize], W, preActivation, activation, y)\n",
        "\n",
        "      # updating the momentum\n",
        "      for k in range(1, layers+1):\n",
        "        m_W[k] = betha1*m_W[k] + (1 - betha1)*dw[k]\n",
        "        m_B[k] = betha1*m_B[k] + (1 - betha1)*db[k]\n",
        "\n",
        "        # finding m hat of W and B\n",
        "        mhat_W[k] = m_W[k]/(1 - betha1 ** t)\n",
        "        mhat_B[k] = m_B[k]/(1 - betha1 ** t)\n",
        "\n",
        "      # update the v values with the gradient\n",
        "      for k in range(1, layers+1):\n",
        "        v_W[k] = v_W[k]*betha2 + (1 - betha2) * (dw[k] ** 2)\n",
        "        v_B[k] = v_B[k]*betha2 + (1 - betha2) * (db[k] ** 2)\n",
        "\n",
        "        # finding v hat of W and B\n",
        "        vhat_W[k] = v_W[k]/(1 - betha2 ** t)\n",
        "        vhat_B[k] = v_B[k]/(1 - betha2 ** t)\n",
        "\n",
        "      # we will update the weights now with the momentum\n",
        "      for k in range(1, layers+1):\n",
        "        l2_norm_w = np.linalg.norm(vhat_W[k])\n",
        "        l2_norm_b = np.linalg.norm(vhat_B[k])\n",
        "        W[k] = W[k] - (learningRate/np.sqrt(l2_norm_w) + epsioln)*mhat_W[k]\n",
        "        B[k] = B[k] - (learningRate/np.sqrt(l2_norm_b) + epsioln)*mhat_B[k]\n",
        "\n",
        "      t += 1\n",
        "      i += batchSize\n",
        "\n",
        "    print(FindAccuracy(W, B, preActivation, activation))\n",
        "    iteration += 1"
      ],
      "metadata": {
        "id": "MLSFG50q87mt"
      },
      "execution_count": null,
      "outputs": []
    },
    {
      "cell_type": "code",
      "source": [
        "ADAM(10, 0.0001, 64, 0.9, 0.999, 0.005)"
      ],
      "metadata": {
        "colab": {
          "base_uri": "https://localhost:8080/"
        },
        "id": "bJxQca1vKoEn",
        "outputId": "5dfe15f4-a2a4-4681-93c8-5ee1c3f8f572"
      },
      "execution_count": null,
      "outputs": [
        {
          "output_type": "stream",
          "name": "stdout",
          "text": [
            "72.43\n",
            "78.69\n",
            "81.75\n",
            "83.07\n",
            "83.94\n",
            "84.55\n",
            "85.06\n",
            "85.56\n",
            "85.9\n",
            "86.11\n"
          ]
        }
      ]
    },
    {
      "cell_type": "code",
      "source": [
        "def NADAM(epochs, learningRate, batchSize, betha1, betha2, epsioln):\n",
        "  layers = 3\n",
        "  nodes  = [128, 64, 10]\n",
        "  inputSize  = 28*28\n",
        "  outputSize = 10\n",
        "  iteration = 0\n",
        "\n",
        "  W, B, preActivation, activation  = Initialise(layers, nodes, inputSize, outputSize)\n",
        "  v_W, v_B = InitialiseEmptyWeightsAndBiases(layers, nodes, inputSize)\n",
        "  m_W, m_B = InitialiseEmptyWeightsAndBiases(layers, nodes, inputSize)\n",
        "  mhat_W, mhat_B = InitialiseEmptyWeightsAndBiases(layers, nodes, inputSize)\n",
        "  vhat_W, vhat_B = InitialiseEmptyWeightsAndBiases(layers, nodes, inputSize)\n",
        "  # inititialising u to be zero\n",
        "  t = 1\n",
        "\n",
        "  while(iteration < epochs):\n",
        "    # this is used to compute the gradients\n",
        "    i = 0\n",
        "    while i < X_train.shape[1]:\n",
        "      y = FeedForward(X_train[:, i:i+batchSize], W, B, preActivation, activation)\n",
        "      dw, db = BackWardPropogation(X_train[:, i:i+batchSize], Y_train[i:i+batchSize], W, preActivation, activation, y)\n",
        "\n",
        "      # updating the momentum\n",
        "      for k in range(1, layers+1):\n",
        "        m_W[k] = betha1*m_W[k] + (1 - betha1)*dw[k]\n",
        "        m_B[k] = betha1*m_B[k] + (1 - betha1)*db[k]\n",
        "\n",
        "        # finding m hat of W and B\n",
        "        mhat_W[k] = m_W[k]/(1 - betha1 ** t)\n",
        "        mhat_B[k] = m_B[k]/(1 - betha1 ** t)\n",
        "\n",
        "      # update the v values with the gradient\n",
        "      for k in range(1, layers+1):\n",
        "        v_W[k] = v_W[k]*betha2 + (1 - betha2) * (dw[k] ** 2)\n",
        "        v_B[k] = v_B[k]*betha2 + (1 - betha2) * (db[k] ** 2)\n",
        "\n",
        "        # finding v hat of W and B\n",
        "        vhat_W[k] = v_W[k]/(1 - betha2 ** t)\n",
        "        vhat_B[k] = v_B[k]/(1 - betha2 ** t)\n",
        "\n",
        "      # we will update the weights now with the momentum\n",
        "      for k in range(1, layers+1):\n",
        "        l2_norm_w = np.linalg.norm(vhat_W[k])\n",
        "        l2_norm_b = np.linalg.norm(vhat_B[k])\n",
        "        W[k] = W[k] - (learningRate/np.sqrt(l2_norm_w) + epsioln)*(mhat_W[k]*betha1 + (1 - betha1)*dw[k]/(1 - betha1 ** t))\n",
        "        B[k] = B[k] - (learningRate/np.sqrt(l2_norm_b) + epsioln)*(mhat_B[k]*betha1 + (1 - betha1)*db[k]/(1 - betha1 ** t))\n",
        "\n",
        "      t += 1\n",
        "      i += batchSize\n",
        "\n",
        "    print(FindAccuracy(W, B, preActivation, activation))\n",
        "    iteration += 1"
      ],
      "metadata": {
        "id": "9LcKJBFnKoAU"
      },
      "execution_count": null,
      "outputs": []
    },
    {
      "cell_type": "code",
      "source": [
        "NADAM(10, 0.001, 16, 0.9, 0.999, 0.005)"
      ],
      "metadata": {
        "colab": {
          "base_uri": "https://localhost:8080/"
        },
        "id": "wZ9moy55Kn0o",
        "outputId": "7bef2b0d-c659-4419-d369-8082e81a055a"
      },
      "execution_count": null,
      "outputs": [
        {
          "output_type": "stream",
          "name": "stdout",
          "text": [
            "72.97\n",
            "81.62\n",
            "84.1\n",
            "85.02\n",
            "85.65\n",
            "86.11\n",
            "86.61\n",
            "86.88\n",
            "87.22\n",
            "87.5\n"
          ]
        }
      ]
    },
    {
      "cell_type": "code",
      "source": [
        "NADAM(10, 0.0001, 64, 0.9, 0.999, 0.005)"
      ],
      "metadata": {
        "id": "jf1REkuolTvY",
        "colab": {
          "base_uri": "https://localhost:8080/"
        },
        "outputId": "42e7538c-40aa-4636-a02c-6418017b5214"
      },
      "execution_count": null,
      "outputs": [
        {
          "output_type": "stream",
          "name": "stdout",
          "text": [
            "62.5\n",
            "76.76\n",
            "81.6\n",
            "83.73\n",
            "84.57\n",
            "85.49\n",
            "86.09\n",
            "86.43\n",
            "86.9\n",
            "87.15\n"
          ]
        }
      ]
    },
    {
      "cell_type": "code",
      "source": [],
      "metadata": {
        "id": "5E5RDRdueH6f"
      },
      "execution_count": null,
      "outputs": []
    },
    {
      "cell_type": "code",
      "source": [],
      "metadata": {
        "id": "nKt2zCVieH3E"
      },
      "execution_count": null,
      "outputs": []
    },
    {
      "cell_type": "code",
      "source": [],
      "metadata": {
        "id": "dPVrV0TweH0I"
      },
      "execution_count": null,
      "outputs": []
    },
    {
      "cell_type": "markdown",
      "source": [
        "Writing in the class wise fashion"
      ],
      "metadata": {
        "id": "gb4e7iAVeIun"
      }
    },
    {
      "cell_type": "code",
      "source": [],
      "metadata": {
        "id": "_bguDrYZeHv3"
      },
      "execution_count": null,
      "outputs": []
    },
    {
      "cell_type": "code",
      "source": [],
      "metadata": {
        "id": "aUuuy3MTeHrG"
      },
      "execution_count": null,
      "outputs": []
    },
    {
      "cell_type": "code",
      "source": [
        "def relu(x):\n",
        "  return np.maximum(0, x)\n",
        "\n",
        "def sigmoid(x):\n",
        "  clip_x = np.clip(x, -500, 500)  # Clipping x to avoid overflow\n",
        "  return 1 / (1 + np.exp(-clip_x))\n",
        "\n",
        "def _tanh(x):\n",
        "  clip_x = np.clip(x, -500, 500)  # Clipping x for uniformity\n",
        "  return np.tanh(clip_x)"
      ],
      "metadata": {
        "id": "9ppJqUZT0Ms8"
      },
      "execution_count": 4,
      "outputs": []
    },
    {
      "cell_type": "code",
      "source": [
        "## writing the code in the classwise fashion\n",
        "class NeuralNetwork:\n",
        "  def __init__(self, inputSize, hiddenLayers, outputSize, sizeOfHiddenLayers, batchSize, learningRate, initialisationType, optimiser, epochs, activationFunc, weightDecay, isWandb = False, lossFunc = \"cross_entropy\", dataset = \"fashion_mnist\"):\n",
        "    # initialising model parameters\n",
        "    nodes_in_layers = []\n",
        "    for i in range(hiddenLayers):\n",
        "      nodes_in_layers.append(sizeOfHiddenLayers)\n",
        "    nodes_in_layers.append(outputSize)\n",
        "    if dataset == \"fashion_mnist\":\n",
        "      (X_train, Y_train), (X_test, Y_test) = fashion_mnist.load_data()\n",
        "      X_train, X_val, Y_train, Y_val = train_test_split(X_train, Y_train, test_size=0.2, random_state=42)\n",
        "\n",
        "    # normalsing and resisizing all the images\n",
        "    X_train = X_train/255.0\n",
        "    X_test  = X_test/255.0\n",
        "    X_val   = X_val/255.0\n",
        "\n",
        "    X_train = X_train.reshape(X_train.shape[0], 784).T\n",
        "    X_test = X_test.reshape(X_test.shape[0], 784).T\n",
        "    X_val = X_val.reshape(X_val.shape[0], 784).T\n",
        "\n",
        "    self.X_train = X_train\n",
        "    self.Y_train = Y_train\n",
        "    self.X_val   = X_val\n",
        "    self.Y_val   = Y_val\n",
        "    self.X_test  = X_test\n",
        "    self.Y_test  = Y_test\n",
        "\n",
        "    self.inputSize = inputSize\n",
        "    self.outputSize= outputSize\n",
        "    self.batchSize = batchSize\n",
        "    self.layers = hiddenLayers + 1\n",
        "    self.nodes  = nodes_in_layers\n",
        "    self.initialisationType = initialisationType\n",
        "    self.betha1 = 0.9\n",
        "    self.betha2 = 0.999\n",
        "    self.betha  = 0.9\n",
        "    self.epsilon= 1e-8\n",
        "    self.Weights= {}\n",
        "    self.Baises = {}\n",
        "    self.optimiser = optimiser\n",
        "    self.epochs = epochs\n",
        "    self.learningRate = learningRate\n",
        "    self.activationFunc = activationFunc\n",
        "    self.isWandb = isWandb\n",
        "    self.weightDecay = weightDecay\n",
        "    self.lossFunc = lossFunc # \"cross_entropy\" or \"MSE\"\n",
        "\n",
        "\n",
        "  def Initialise(self):\n",
        "    # initialising weights and biases as a key value pair\n",
        "    W = {}\n",
        "    B = {}\n",
        "\n",
        "    PreActivation = {}\n",
        "    Activation = {}\n",
        "\n",
        "    # adding input layer\n",
        "    LayerWise = self.nodes\n",
        "    LayerWise.insert(0, self.inputSize)\n",
        "\n",
        "    # initialisation of weights and baises\n",
        "    for i in range(self.layers):\n",
        "      if self.initialisationType == \"random\":\n",
        "        W[i+1] = 0.01*np.random.randn(LayerWise[i+1], LayerWise[i])\n",
        "        B[i+1] = 0.01*np.random.randn(LayerWise[i+1], 1)\n",
        "      if self.initialisationType == \"Xavier\":\n",
        "        W[i+1] = np.random.randn(LayerWise[i+1], LayerWise[i]) * np.sqrt(2. / (LayerWise[i] + LayerWise[i+1]))\n",
        "        B[i+1] = np.zeros((LayerWise[i+1], 1))\n",
        "\n",
        "      # preactivation and activation will have same size\n",
        "      PreActivation[i+1] = np.zeros((LayerWise[i+1], 1))\n",
        "      Activation[i+1]    = np.zeros((LayerWise[i+1], 1))\n",
        "\n",
        "    del LayerWise[0]\n",
        "\n",
        "    self.Weights = W\n",
        "    self.Baises  = B\n",
        "    self.PreActivation = PreActivation\n",
        "    self.Activation = Activation\n",
        "\n",
        "    return W,B,PreActivation,Activation\n",
        "\n",
        "  def InitialiseEmptyWeightsAndBiases(self):\n",
        "    W = {}\n",
        "    B = {}\n",
        "    LayerWise = self.nodes\n",
        "\n",
        "    LayerWise.insert(0, self.inputSize)\n",
        "    for i in range(self.layers):\n",
        "      W[i+1] = np.zeros((LayerWise[i+1], LayerWise[i]))\n",
        "      B[i+1] = np.zeros((LayerWise[i+1], 1))\n",
        "    del LayerWise[0]\n",
        "\n",
        "    return W,B\n",
        "\n",
        "  def FeedForward(self, x, W, B, preActivation, activation):\n",
        "    # no of layers\n",
        "    n = len(W)\n",
        "    y = x\n",
        "    for i in range(1, n+1):\n",
        "      preActivation[i] = np.dot(W[i], y) + B[i]\n",
        "      if self.activationFunc == \"sigmoid\":\n",
        "        activation[i] = sigmoid(preActivation[i])\n",
        "      elif self.activationFunc == \"tanh\":\n",
        "        activation[i] = _tanh(preActivation[i])\n",
        "      elif self.activationFunc == \"relu\":\n",
        "        activation[i] = relu(preActivation[i])\n",
        "\n",
        "      y = activation[i]\n",
        "\n",
        "    # last layer we don't need activation\n",
        "    y = preActivation[n]\n",
        "    # doing softmax doing the each column wise\n",
        "    exp_y = np.exp(y - np.max(y, axis=0, keepdims=True))  # Improve numerical stability\n",
        "    y = exp_y / np.sum(exp_y, axis=0, keepdims=True)\n",
        "    return y\n",
        "\n",
        "  def BackWardPropogation(self, X, y_corr, W, preActivation, activation, y_hat):\n",
        "    # y_hat is the prediction and y_corr is the correct class\n",
        "    dw = {}\n",
        "    db = {}\n",
        "\n",
        "    # these many points are there in the batch\n",
        "    batchSize = y_corr.shape[0]\n",
        "    da_l = y_hat\n",
        "\n",
        "    ind = 0\n",
        "    while ind < batchSize:\n",
        "      da_l[y_corr[ind]][ind] -= 1\n",
        "      ind += 1\n",
        "    da = da_l\n",
        "\n",
        "    activation[0] = X\n",
        "    layer = len(W)\n",
        "    dh = da #used for finding next layer\n",
        "    while layer >= 1:\n",
        "      dw[layer] = np.dot(da, activation[layer-1].T)\n",
        "      db[layer] = da.sum(axis=1, keepdims=True)\n",
        "      if layer > 1:\n",
        "        dh = np.dot(W[layer].T, da)\n",
        "        if self.activationFunc == \"sigmoid\":\n",
        "          dg = activation[layer-1] * (1 - activation[layer-1])\n",
        "        elif self.activationFunc == \"tanh\":\n",
        "          dg = (1 + activation[layer-1]) * (1 - activation[layer-1])\n",
        "        elif self.activationFunc == \"relu\":\n",
        "          dg = np.where(preActivation[layer-1] > 0, 1, 0)\n",
        "\n",
        "        # dg = activation[layer-1] * (1 - activation[layer-1])\n",
        "        da = dh * dg\n",
        "        # hedamant product\n",
        "      layer -= 1\n",
        "\n",
        "    for i in range(1, self.layers+1):\n",
        "      dw[i] = dw[i] + self.weightDecay*W[i]\n",
        "\n",
        "    return dw, db\n",
        "\n",
        "  def FindAccuracyAndLoss(self, W, B, data, labels):\n",
        "    n = data.shape[1]\n",
        "    correct = 0\n",
        "\n",
        "    #running the data on the weights and baises\n",
        "    y = data\n",
        "    for i in range(1, self.layers+1):\n",
        "      preActivation = np.dot(W[i], y) + B[i]\n",
        "\n",
        "      if self.activationFunc == \"sigmoid\":\n",
        "        activation = sigmoid(preActivation)\n",
        "      elif self.activationFunc == \"tanh\":\n",
        "        activation = _tanh(preActivation)\n",
        "      elif self.activationFunc == \"relu\":\n",
        "        activation = relu(preActivation)\n",
        "      y = activation\n",
        "\n",
        "    # last layer we don't need activation\n",
        "    y = preActivation\n",
        "    # doing softmax doing the each column wise\n",
        "    exp_y = np.exp(y - np.max(y, axis=0, keepdims=True))  # Improve numerical stability\n",
        "    y = exp_y / np.sum(exp_y, axis=0, keepdims=True)\n",
        "    loss = 0\n",
        "\n",
        "    for i in range(n):\n",
        "      y_pred = np.argmax(y[:,i])\n",
        "      if labels[i] == y_pred:\n",
        "        correct += 1\n",
        "\n",
        "      loss += -1*np.log(y[:,i][labels[i]] + 1e-9)\n",
        "\n",
        "    return (correct*100/ n), (loss/n)\n",
        "\n",
        "  def SGD(self):\n",
        "    W, B, preActivation, activation  = self.Initialise()\n",
        "    iteration = 0\n",
        "    layers = self.layers\n",
        "    empty_W, empty_B = self.InitialiseEmptyWeightsAndBiases()\n",
        "\n",
        "    while(iteration < self.epochs):\n",
        "      i = 0\n",
        "      while i < self.X_train.shape[1]:\n",
        "        y = self.FeedForward(self.X_train[:, i:i+self.batchSize], W, B, preActivation, activation)\n",
        "        # these are the partial derivates for one point\n",
        "        dw, db = self.BackWardPropogation(self.X_train[:, i:i+self.batchSize], self.Y_train[i:i+self.batchSize], W, preActivation, activation, y)\n",
        "\n",
        "        # we will update the weights now\n",
        "        for k in range(1, layers+1):\n",
        "            W[k] = W[k] - self.learningRate*dw[k]\n",
        "            B[k] = B[k] - self.learningRate*db[k]\n",
        "\n",
        "        i += self.batchSize\n",
        "      acuu, loss = self.FindAccuracyAndLoss(W, B, self.X_train, self.Y_train)\n",
        "      v_acc, v_loss = self.FindAccuracyAndLoss(W, B, self.X_val, self.Y_val)\n",
        "      if self.isWandb == True:\n",
        "        wandb.log({'accuracy': acuu})\n",
        "        wandb.log({'loss': loss})\n",
        "        wandb.log({'v_accuracy': v_acc})\n",
        "        wandb.log({'v_loss': v_loss})\n",
        "      print(acuu, loss, v_acc, v_loss)\n",
        "      iteration += 1\n",
        "\n",
        "    self.Weights = W\n",
        "    self.Baises  = B\n",
        "\n",
        "  def MomentBasedGradientDecent(self):\n",
        "    W, B, preActivation, activation  = self.Initialise()\n",
        "    iteration = 0\n",
        "    u_W, u_B = self.InitialiseEmptyWeightsAndBiases()\n",
        "    # inititialising u to be zero\n",
        "\n",
        "    while(iteration < self.epochs):\n",
        "      i = 0\n",
        "      while i < self.X_train.shape[1]:\n",
        "        # batch wise forward and backward passes\n",
        "        y = self.FeedForward(self.X_train[:, i:i+self.batchSize], W, B, preActivation, activation)\n",
        "        dw, db = self.BackWardPropogation(self.X_train[:, i:i+self.batchSize], self.Y_train[i:i+self.batchSize], W, preActivation, activation, y)\n",
        "\n",
        "        # update the momentum with the gradient\n",
        "        for k in range(1, self.layers+1):\n",
        "          u_W[k] = u_W[k]*self.betha + dw[k]\n",
        "          u_B[k] = u_B[k]*self.betha + db[k]\n",
        "\n",
        "        # we will update the weights now with the momentum\n",
        "        for k in range(1, self.layers+1):\n",
        "            W[k] = W[k] - self.learningRate*u_W[k]\n",
        "            B[k] = B[k] - self.learningRate*u_B[k]\n",
        "\n",
        "        # next batch\n",
        "        i += self.batchSize\n",
        "      acuu, loss = self.FindAccuracyAndLoss(W, B, self.X_train, self.Y_train)\n",
        "      v_acc, v_loss = self.FindAccuracyAndLoss(W, B, self.X_val, self.Y_val)\n",
        "      if self.isWandb == True:\n",
        "        wandb.log({'accuracy': acuu})\n",
        "        wandb.log({'loss': loss})\n",
        "        wandb.log({'v_accuracy': v_acc})\n",
        "        wandb.log({'v_loss': v_loss})\n",
        "      print(acuu, loss, v_acc, v_loss)\n",
        "      iteration += 1\n",
        "\n",
        "    self.Weights = W\n",
        "    self.Baises  = B\n",
        "\n",
        "  def NestrovBasedGradientDescent(self):\n",
        "    iteration = 0\n",
        "    W, B, preActivation, activation = self.Initialise()\n",
        "    u_W, u_B = self.InitialiseEmptyWeightsAndBiases()\n",
        "    # initializing u to be zero\n",
        "\n",
        "    while(iteration < self.epochs):\n",
        "      i = 0\n",
        "      while i < self.X_train.shape[1]:\n",
        "\n",
        "        y = self.FeedForward(self.X_train[:, i:i+self.batchSize], W, B, preActivation, activation)\n",
        "        dw, db = self.BackWardPropogation(self.X_train[:, i:i+self.batchSize], self.Y_train[i:i+self.batchSize], W, preActivation, activation, y)\n",
        "\n",
        "        for k in range(1, self.layers+1):\n",
        "            u_W[k] = u_W[k]*self.betha + dw[k]\n",
        "            u_B[k] = u_B[k]*self.betha + db[k]\n",
        "\n",
        "        for k in range(1, self.layers+1):\n",
        "            W[k] = W[k] - self.learningRate*(self.betha* u_W[k]+ dw[k])\n",
        "            B[k] = B[k] - self.learningRate*(self.betha* u_B[k]+ db[k])\n",
        "\n",
        "        i += self.batchSize\n",
        "      acuu, loss = self.FindAccuracyAndLoss(W, B, self.X_train, self.Y_train)\n",
        "      v_acc, v_loss = self.FindAccuracyAndLoss(W, B, self.X_val, self.Y_val)\n",
        "      if self.isWandb == True:\n",
        "        wandb.log({'accuracy': acuu})\n",
        "        wandb.log({'loss': loss})\n",
        "        wandb.log({'v_accuracy': v_acc})\n",
        "        wandb.log({'v_loss': v_loss})\n",
        "      print(acuu, loss, v_acc, v_loss)\n",
        "      iteration += 1\n",
        "\n",
        "    self.Weights = W\n",
        "    self.Baises  = B\n",
        "\n",
        "  def RMSPROP(self):\n",
        "    iteration = 0\n",
        "    epochs = self.epochs\n",
        "    layers = self.layers\n",
        "    batchSize = self.batchSize\n",
        "    betha = self.betha\n",
        "    W, B, preActivation, activation  = self.Initialise()\n",
        "    v_W, v_B = self.InitialiseEmptyWeightsAndBiases()\n",
        "    # inititialising u to be zero\n",
        "\n",
        "    while(iteration < epochs):\n",
        "      i = 0\n",
        "      while i < self.X_train.shape[1]:\n",
        "        y = self.FeedForward(self.X_train[:, i:i+batchSize], W, B, preActivation, activation)\n",
        "        dw, db = self.BackWardPropogation(self.X_train[:, i:i+batchSize], self.Y_train[i:i+batchSize], W, preActivation, activation, y)\n",
        "\n",
        "        # update the v values with the gradient\n",
        "        for k in range(1, layers+1):\n",
        "          v_W[k] = v_W[k]*betha + (1 - betha) * (dw[k] ** 2)\n",
        "          v_B[k] = v_B[k]*betha + (1 - betha) * (db[k] ** 2)\n",
        "\n",
        "        # we will update the weights now with the momentum\n",
        "        for k in range(1, layers+1):\n",
        "          W[k] = W[k] - (self.learningRate/np.sqrt(v_W[k] + self.epsilon))*dw[k]\n",
        "          B[k] = B[k] - (self.learningRate/np.sqrt(v_B[k] + self.epsilon))*db[k]\n",
        "\n",
        "        i += batchSize\n",
        "      acuu, loss = self.FindAccuracyAndLoss(W, B, self.X_train, self.Y_train)\n",
        "      v_acc, v_loss = self.FindAccuracyAndLoss(W, B, self.X_val, self.Y_val)\n",
        "      if self.isWandb == True:\n",
        "        wandb.log({'accuracy': acuu})\n",
        "        wandb.log({'loss': loss})\n",
        "        wandb.log({'v_accuracy': v_acc})\n",
        "        wandb.log({'v_loss': v_loss})\n",
        "      print(acuu, loss, v_acc, v_loss)\n",
        "      iteration += 1\n",
        "\n",
        "    self.Weights = W\n",
        "    self.Baises  = B\n",
        "\n",
        "  def ADAM(self):\n",
        "    iteration = 0\n",
        "    epochs = self.epochs\n",
        "    layers = self.layers\n",
        "    batchSize = self.batchSize\n",
        "\n",
        "    W, B, preActivation, activation  = self.Initialise()\n",
        "    v_W, v_B = self.InitialiseEmptyWeightsAndBiases()\n",
        "    m_W, m_B = self.InitialiseEmptyWeightsAndBiases()\n",
        "    mhat_W, mhat_B = self.InitialiseEmptyWeightsAndBiases()\n",
        "    vhat_W, vhat_B = self.InitialiseEmptyWeightsAndBiases()\n",
        "    # inititialising u to be zero\n",
        "    t = 1\n",
        "\n",
        "    while(iteration < epochs):\n",
        "      # this is used to compute the gradients\n",
        "      i = 0\n",
        "      while i < self.X_train.shape[1]:\n",
        "        y = self.FeedForward(self.X_train[:, i:i+batchSize], W, B, preActivation, activation)\n",
        "        dw, db = self.BackWardPropogation(self.X_train[:, i:i+batchSize], self.Y_train[i:i+batchSize], W, preActivation, activation, y)\n",
        "\n",
        "        # updating the momentum\n",
        "        for k in range(1, layers+1):\n",
        "          m_W[k] = self.betha1*m_W[k] + (1 - self.betha1)*dw[k]\n",
        "          m_B[k] = self.betha1*m_B[k] + (1 - self.betha1)*db[k]\n",
        "\n",
        "          # finding m hat of W and B\n",
        "          mhat_W[k] = m_W[k]/(1 - self.betha1 ** t)\n",
        "          mhat_B[k] = m_B[k]/(1 - self.betha1 ** t)\n",
        "\n",
        "        # update the v values with the gradient\n",
        "        for k in range(1, layers+1):\n",
        "          v_W[k] = v_W[k]*self.betha2 + (1 - self.betha2) * (dw[k] ** 2)\n",
        "          v_B[k] = v_B[k]*self.betha2 + (1 - self.betha2) * (db[k] ** 2)\n",
        "\n",
        "          # finding v hat of W and B\n",
        "          vhat_W[k] = v_W[k]/(1 - self.betha2 ** t)\n",
        "          vhat_B[k] = v_B[k]/(1 - self.betha2 ** t)\n",
        "\n",
        "        # we will update the weights now with the momentum\n",
        "        for k in range(1, layers+1):\n",
        "          l2_norm_w = np.linalg.norm(vhat_W[k])\n",
        "          l2_norm_b = np.linalg.norm(vhat_B[k])\n",
        "          W[k] = W[k] - (self.learningRate/np.sqrt(l2_norm_w) + self.epsilon)*mhat_W[k]\n",
        "          B[k] = B[k] - (self.learningRate/np.sqrt(l2_norm_b) + self.epsilon)*mhat_B[k]\n",
        "\n",
        "        t += 1\n",
        "        i += self.batchSize\n",
        "\n",
        "      acuu, loss = self.FindAccuracyAndLoss(W, B, self.X_train, self.Y_train)\n",
        "      v_acc, v_loss = self.FindAccuracyAndLoss(W, B, self.X_val, self.Y_val)\n",
        "      if self.isWandb == True:\n",
        "        wandb.log({'accuracy': acuu})\n",
        "        wandb.log({'loss': loss})\n",
        "        wandb.log({'v_accuracy': v_acc})\n",
        "        wandb.log({'v_loss': v_loss})\n",
        "      print(acuu, loss, v_acc, v_loss)\n",
        "      iteration += 1\n",
        "\n",
        "    self.Weights = W\n",
        "    self.Baises  = B\n",
        "\n",
        "  def NADAM(self):\n",
        "    iteration = 0\n",
        "    epochs = self.epochs\n",
        "    layers = self.layers\n",
        "    W, B, preActivation, activation  = self.Initialise()\n",
        "    v_W, v_B = self.InitialiseEmptyWeightsAndBiases()\n",
        "    m_W, m_B = self.InitialiseEmptyWeightsAndBiases()\n",
        "    mhat_W, mhat_B = self.InitialiseEmptyWeightsAndBiases()\n",
        "    vhat_W, vhat_B = self.InitialiseEmptyWeightsAndBiases()\n",
        "    # inititialising u to be zero\n",
        "    t = 1\n",
        "\n",
        "    while(iteration < self.epochs):\n",
        "      # this is used to compute the gradients\n",
        "      i = 0\n",
        "      while i < self.X_train.shape[1]:\n",
        "        y = self.FeedForward(self.X_train[:, i:i+self.batchSize], W, B, preActivation, activation)\n",
        "        dw, db = self.BackWardPropogation(self.X_train[:, i:i+self.batchSize], self.Y_train[i:i+self.batchSize], W, preActivation, activation, y)\n",
        "\n",
        "        # updating the momentum\n",
        "        for k in range(1, layers+1):\n",
        "          m_W[k] = self.betha1*m_W[k] + (1 - self.betha1)*dw[k]\n",
        "          m_B[k] = self.betha1*m_B[k] + (1 - self.betha1)*db[k]\n",
        "\n",
        "          # finding m hat of W and B\n",
        "          mhat_W[k] = m_W[k]/(1 - self.betha1 ** t)\n",
        "          mhat_B[k] = m_B[k]/(1 - self.betha1 ** t)\n",
        "\n",
        "        # update the v values with the gradient\n",
        "        for k in range(1, layers+1):\n",
        "          v_W[k] = v_W[k]*self.betha2 + (1 - self.betha2) * (dw[k] ** 2)\n",
        "          v_B[k] = v_B[k]*self.betha2 + (1 - self.betha2) * (db[k] ** 2)\n",
        "\n",
        "          # finding v hat of W and B\n",
        "          vhat_W[k] = v_W[k]/(1 - self.betha2 ** t)\n",
        "          vhat_B[k] = v_B[k]/(1 - self.betha2 ** t)\n",
        "\n",
        "        # we will update the weights now with the momentum\n",
        "        for k in range(1, layers+1):\n",
        "          l2_norm_w = np.linalg.norm(vhat_W[k])\n",
        "          l2_norm_b = np.linalg.norm(vhat_B[k])\n",
        "          W[k] = W[k] - (self.learningRate/np.sqrt(l2_norm_w) + self.epsilon)*(mhat_W[k]*self.betha1 + (1 - self.betha1)*dw[k]/(1 - self.betha1 ** t))\n",
        "          B[k] = B[k] - (self.learningRate/np.sqrt(l2_norm_b) + self.epsilon)*(mhat_B[k]*self.betha1 + (1 - self.betha1)*db[k]/(1 - self.betha1 ** t))\n",
        "\n",
        "        t += 1\n",
        "        i += self.batchSize\n",
        "\n",
        "      acuu, loss = self.FindAccuracyAndLoss(W, B, self.X_train, self.Y_train)\n",
        "      v_acc, v_loss = self.FindAccuracyAndLoss(W, B, self.X_val, self.Y_val)\n",
        "      if self.isWandb == True:\n",
        "        wandb.log({'accuracy': acuu})\n",
        "        wandb.log({'loss': loss})\n",
        "        wandb.log({'v_accuracy': v_acc})\n",
        "        wandb.log({'v_loss': v_loss})\n",
        "      print(acuu, loss, v_acc, v_loss)\n",
        "      iteration += 1\n",
        "\n",
        "    self.Weights = W\n",
        "    self.Baises  = B\n",
        "\n",
        "  def fit(self):\n",
        "    if self.optimiser == \"sgd\":\n",
        "      self.SGD()\n",
        "    if self.optimiser == \"momentum\":\n",
        "      self.MomentBasedGradientDecent()\n",
        "    if self.optimiser == \"nestrov\":\n",
        "      self.NestrovBasedGradientDescent()\n",
        "    if self.optimiser == \"rmsprop\":\n",
        "      self.RMSPROP()\n",
        "    if self.optimiser == \"adam\":\n",
        "      self.ADAM()\n",
        "    if self.optimiser == \"nadam\":\n",
        "      self.NADAM()\n"
      ],
      "metadata": {
        "id": "-sX2Tw9RXBPt"
      },
      "execution_count": 17,
      "outputs": []
    },
    {
      "cell_type": "code",
      "source": [
        "model = NeuralNetwork(inputSize = 784, hiddenLayers = 4, outputSize = 10, sizeOfHiddenLayers = 64, batchSize = 32, learningRate = 0.001, initialisationType = \"Xavier\", optimiser = \"nadam\", activationFunc=\"relu\",weightDecay = 0.0005, epochs = 4)\n",
        "model.fit()"
      ],
      "metadata": {
        "id": "4u1U61YTZxb_"
      },
      "execution_count": null,
      "outputs": []
    },
    {
      "cell_type": "code",
      "source": [
        "def main():\n",
        "    wandb.init(project=\"Assignment 1\")\n",
        "    config = wandb.config\n",
        "    run_name = f\"{config.optimiser}_{config.activation}_{config.hidden_layers}_{config.hidden_layer_size}_{config.batch_size}\"\n",
        "\n",
        "    # Set the run name\n",
        "    wandb.run.name = run_name\n",
        "    wandb.run.save()\n",
        "\n",
        "    # Define and train the model as before\n",
        "    model = NeuralNetwork(inputSize = 784, hiddenLayers = config.hidden_layers, outputSize = 10, sizeOfHiddenLayers = config.hidden_layer_size, batchSize = config.batch_size, learningRate = config.learning_rate, initialisationType = config.weights_initialisation, optimiser = config.optimiser, activationFunc=config.activation, epochs = config.epochs,weightDecay = config.weight_decay, isWandb = True)\n",
        "    model.fit()\n",
        "    wandb.finish()\n",
        "\n",
        "sweep_config = {\n",
        "    'method': 'bayes',\n",
        "    'name' : 'sweep cross entropy',\n",
        "    'metric': {\n",
        "      'name': 'v_accuracy',\n",
        "      'goal': 'maximize'\n",
        "    },\n",
        "    'parameters': {\n",
        "        'epochs': {\n",
        "            'values': [5,10]\n",
        "        },\n",
        "        'hidden_layers': {\n",
        "          'values': [3, 4, 5]\n",
        "        },\n",
        "        'hidden_layer_size':{\n",
        "            'values':[32,64,128]\n",
        "        },\n",
        "        'weight_decay': {\n",
        "            'values':[0, 0.0005, 0.5]\n",
        "        },\n",
        "        'batch_size': {\n",
        "            'values': [16, 32, 64]\n",
        "        },\n",
        "        'activation': {\n",
        "            'values': ['sigmoid','relu','tanh']\n",
        "        },\n",
        "        'optimiser': {\n",
        "            'values': ['sgd', 'momentum', 'nestrov', 'rmsprop', 'adam', 'nadam']\n",
        "        },\n",
        "        'weights_initialisation': {\n",
        "            'values': ['random', 'Xavier']\n",
        "        },\n",
        "        'learning_rate': {\n",
        "            'values':[1e-2,1e-3,1e-4]\n",
        "        },\n",
        "    }\n",
        "}\n",
        "\n",
        "\n",
        "sweep_id = wandb.sweep(sweep=sweep_config,project='Assignment 1')\n",
        "wandb.agent(sweep_id , function = main , count = 150)\n",
        "wandb.finish()"
      ],
      "metadata": {
        "id": "Keiyle7_fYg7"
      },
      "execution_count": null,
      "outputs": []
    },
    {
      "cell_type": "code",
      "source": [
        "## todo tasks\n",
        "\n",
        "#  -- Add different activation functions and derivaties still linear is left\n",
        "#  -- L2 regularisation by adding epsilon * alpha * w at each updation so send this at the dw find\n",
        "#"
      ],
      "metadata": {
        "id": "69f2ObJ-fYXq"
      },
      "execution_count": null,
      "outputs": []
    }
  ],
  "metadata": {
    "colab": {
      "provenance": []
    },
    "kernelspec": {
      "display_name": "Python 3",
      "name": "python3"
    },
    "language_info": {
      "name": "python"
    }
  },
  "nbformat": 4,
  "nbformat_minor": 0
}